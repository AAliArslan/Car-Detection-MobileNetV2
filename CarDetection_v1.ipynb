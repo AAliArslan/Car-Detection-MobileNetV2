{
  "nbformat": 4,
  "nbformat_minor": 0,
  "metadata": {
    "colab": {
      "provenance": [],
      "include_colab_link": true
    },
    "kernelspec": {
      "name": "python3",
      "display_name": "Python 3"
    },
    "language_info": {
      "name": "python"
    }
  },
  "cells": [
    {
      "cell_type": "markdown",
      "metadata": {
        "id": "view-in-github",
        "colab_type": "text"
      },
      "source": [
        "<a href=\"https://colab.research.google.com/github/AAliArslan/AAliArslan/blob/main/CarDetection_v1.ipynb\" target=\"_parent\"><img src=\"https://colab.research.google.com/assets/colab-badge.svg\" alt=\"Open In Colab\"/></a>"
      ]
    },
    {
      "cell_type": "code",
      "execution_count": null,
      "metadata": {
        "id": "sVDQPlrII2o5"
      },
      "outputs": [],
      "source": [
        "# Import required packages\n",
        "import tensorflow as tf\n",
        "import numpy as np\n",
        "from tensorflow.keras.applications import MobileNetV2\n",
        "from tensorflow.keras.preprocessing.image import img_to_array, load_img\n",
        "from tensorflow.keras.applications.mobilenet_v2 import preprocess_input"
      ]
    },
    {
      "cell_type": "code",
      "source": [
        "# Load the MobileNetV2 model\n",
        "model = MobileNetV2(weights=\"imagenet\")\n"
      ],
      "metadata": {
        "id": "bomXmGZrWU0e",
        "colab": {
          "base_uri": "https://localhost:8080/"
        },
        "outputId": "14d58c74-6fca-4a99-95cb-e46e3349d7d8"
      },
      "execution_count": null,
      "outputs": [
        {
          "output_type": "stream",
          "name": "stdout",
          "text": [
            "Downloading data from https://storage.googleapis.com/tensorflow/keras-applications/mobilenet_v2/mobilenet_v2_weights_tf_dim_ordering_tf_kernels_1.0_224.h5\n",
            "14536120/14536120 [==============================] - 1s 0us/step\n"
          ]
        }
      ]
    },
    {
      "cell_type": "code",
      "source": [
        "# Load the input image\n",
        "def load_image(image_path):\n",
        "  image = load_img(image_path, target_size=(224, 224))\n",
        "  return image\n"
      ],
      "metadata": {
        "id": "Bzm3cQkhWX8x"
      },
      "execution_count": null,
      "outputs": []
    },
    {
      "cell_type": "code",
      "source": [
        "# Define an Ind array that holds the important indexes for us\n",
        "Ind =  [407, 408, 436, 444, 450, 468, 479, 475, 511, 517, 537, 555, 561, 565, \n",
        "        569, 573, 575, 581, 586, 595, 603, 609, 612, 621, 627, 654, 656, 661, \n",
        "        665, 670, 671, 675, 690, 705, 717, 730, 734, 751, 757, 779, 802, 803, \n",
        "        817, 829, 847, 856, 864, 866, 867, 870, 874, 880]\n",
        "\n",
        "Threshold = 0.10"
      ],
      "metadata": {
        "id": "HhWFNgtoWZzN"
      },
      "execution_count": null,
      "outputs": []
    },
    {
      "cell_type": "code",
      "source": [
        "# Preprocess the input image\n",
        "def preprocess_image(image):\n",
        "  image = img_to_array(image)\n",
        "  image = preprocess_input(image)\n",
        "  # Add a new axis to the tensor\n",
        "  image = tf.expand_dims(image, axis=0)\n",
        "  return image"
      ],
      "metadata": {
        "id": "ugwYjaApWf0Z"
      },
      "execution_count": null,
      "outputs": []
    },
    {
      "cell_type": "code",
      "source": [
        "# Classify the input image using the MobileNetV2 model\n",
        "def classify_image(image):\n",
        "  preds = model.predict(image)\n",
        "  return preds\n",
        "  "
      ],
      "metadata": {
        "id": "jHd_2CQrWhKM"
      },
      "execution_count": null,
      "outputs": []
    },
    {
      "cell_type": "code",
      "source": [
        "def detect_car(image):\n",
        "  processed_image = preprocess_image(image)\n",
        "  preds = classify_image(processed_image)\n",
        "  # Find the index of the highest value in the predictions array\n",
        "  indexes = np.argmax(preds)\n",
        "\n",
        "  # convert the list to a NumPy array\n",
        "  my_array = np.array(preds)\n",
        "\n",
        "  # find the index of every element with value higher than 0.1\n",
        "  indices = np.where(my_array > 0.05)\n",
        "\n",
        "  # We add up all the probabilities that corresponds to desired indexes in Prob\n",
        "  Prob = 0\n",
        "\n",
        "  for i in Ind:\n",
        "    Prob = Prob + preds[0][i]\n",
        "\n",
        "    # Return true if the probability is higher than %15\n",
        "  return Prob > Threshold\n"
      ],
      "metadata": {
        "id": "vf89mNEtWj2V"
      },
      "execution_count": null,
      "outputs": []
    },
    {
      "cell_type": "code",
      "source": [
        "# Test the car detection module\n",
        "image = load_image(\"truck1.jpg\")\n",
        "if detect_car(image):\n",
        "  print(\"A vehicle is present in the image\")\n",
        "else:\n",
        "  print(\"No vehicle is present in the image\")"
      ],
      "metadata": {
        "colab": {
          "base_uri": "https://localhost:8080/"
        },
        "id": "abmRH6dxWlLF",
        "outputId": "aeb2fa52-e6f7-4242-fe43-7474441c582c"
      },
      "execution_count": null,
      "outputs": [
        {
          "output_type": "stream",
          "name": "stdout",
          "text": [
            "1/1 [==============================] - 1s 1s/step\n",
            "A vehicle is present in the image\n"
          ]
        }
      ]
    },
    {
      "cell_type": "markdown",
      "source": [
        "# Yeni Bölüm"
      ],
      "metadata": {
        "id": "48H9JKmib2pu"
      }
    }
  ]
}